{
 "cells": [
  {
   "cell_type": "code",
   "execution_count": 19,
   "id": "0353a5cc",
   "metadata": {},
   "outputs": [
    {
     "name": "stdout",
     "output_type": "stream",
     "text": [
      "0 OR 0 yields: 0.01001346163107604\n",
      "1 OR 0 yields: 0.9960480618656123\n",
      "0 OR 1 yields: 0.9960174996878438\n",
      "1 OR 1 yields: 0.9999998395374936\n"
     ]
    }
   ],
   "source": [
    "import numpy,random,os\n",
    "lr = 1\n",
    "bias = 1\n",
    "weights = list()\n",
    "for k in range(3):\n",
    "    weights.append(random.random())  #Назначение случайных весов\n",
    "def ptron(inp1,inp2,outp):\n",
    "    outp_pn = inp1*weights[0]+inp2*weights[1]+bias*weights[2]\n",
    "    outp_pn = 1.0/(1+numpy.exp(-outp_pn))   #Sigmoid Function\n",
    "    err = outp - outp_pn\n",
    "    weights[0] += err*inp1*lr   #Изменение веса\n",
    "    weights[1] += err*inp2*lr\n",
    "    weights[2] += err*bias*lr\n",
    "for i in range(500):    #Training With Data\n",
    "    ptron(0,0,0)     #Передача значений попытки ИЛИ\n",
    "    ptron(1,1,1)\n",
    "    ptron(1,0,1)\n",
    "    ptron(0,1,1)\n",
    "for x,y in [(0,0),(1,0),(0,1),(1,1)]:\n",
    "    outp_pn = x*weights[0]+y*weights[1]+bias*weights[2]\n",
    "    #Based on the trained wieghts\n",
    "    outp = 1.0/(1+numpy.exp(-outp_pn))\n",
    "    print(x,\"OR\",y,\"yields:\",outp)"
   ]
  },
  {
   "cell_type": "code",
   "execution_count": 8,
   "id": "cdbafccf",
   "metadata": {},
   "outputs": [
    {
     "name": "stdout",
     "output_type": "stream",
     "text": [
      "0 AND 0 yields: 1.28457579376673e-06\n",
      "1 AND 0 yields: 0.009480089354805153\n",
      "0 AND 1 yields: 0.00959547221790678\n",
      "1 AND 1 yields: 0.9863358644820505\n"
     ]
    }
   ],
   "source": [
    "import numpy,random,os\n",
    "lr = 1\n",
    "bias = 1\n",
    "weights = list()\n",
    "for k in range(3):\n",
    "    weights.append(random.random())  #Назначение случайных весов\n",
    "def ptron(inp1,inp2,outp):\n",
    "    outp_pn = inp1*weights[0]+inp2*weights[1]+bias*weights[2]\n",
    "    outp_pn = 1.0/(1+numpy.exp(-outp_pn))   #Sigmoid Function\n",
    "    err = outp - outp_pn\n",
    "    weights[0] += err*inp1*lr   #Изменение веса\n",
    "    weights[1] += err*inp2*lr\n",
    "    weights[2] += err*bias*lr\n",
    "for i in range(500):    #Training With Data\n",
    "    ptron(0,0,0)     #Передача значений попытки AND\n",
    "    ptron(1,1,1)\n",
    "    ptron(1,0,0)\n",
    "    ptron(0,1,0)\n",
    "for x,y in [(0,0),(1,0),(0,1),(1,1)]:\n",
    "    outp_pn = x*weights[0]+y*weights[1]+bias*weights[2]\n",
    "    #Based on the trained wieghts\n",
    "    outp = 1.0/(1+numpy.exp(-outp_pn))\n",
    "    print(x,\"AND\",y,\"yields:\",outp)"
   ]
  },
  {
   "cell_type": "code",
   "execution_count": null,
   "id": "03c5c8d2",
   "metadata": {},
   "outputs": [],
   "source": []
  }
 ],
 "metadata": {
  "kernelspec": {
   "display_name": "Python 3 (ipykernel)",
   "language": "python",
   "name": "python3"
  },
  "language_info": {
   "codemirror_mode": {
    "name": "ipython",
    "version": 3
   },
   "file_extension": ".py",
   "mimetype": "text/x-python",
   "name": "python",
   "nbconvert_exporter": "python",
   "pygments_lexer": "ipython3",
   "version": "3.9.7"
  }
 },
 "nbformat": 4,
 "nbformat_minor": 5
}
