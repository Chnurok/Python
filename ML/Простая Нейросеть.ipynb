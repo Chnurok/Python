{
 "cells": [
  {
   "cell_type": "code",
   "execution_count": 3,
   "id": "6fe3d1bb",
   "metadata": {},
   "outputs": [],
   "source": [
    "import numpy as np"
   ]
  },
  {
   "cell_type": "code",
   "execution_count": 4,
   "id": "67cf3cbc",
   "metadata": {},
   "outputs": [],
   "source": [
    "# Функция сигмоида\n",
    "# Необходима для опредления значения весов\n",
    "def sigmoid(x, der=False):\n",
    "    if der:\n",
    "        return x * (1 - x)\n",
    "    return 1 / (1 + np.exp(-x))"
   ]
  },
  {
   "cell_type": "code",
   "execution_count": 5,
   "id": "4d570958",
   "metadata": {},
   "outputs": [],
   "source": [
    "# Набор входных данных\n",
    "x = np.array([[0, 0, 1],\n",
    "        [0, 1, 1],\n",
    "        [1, 0, 1],\n",
    "        [1, 1, 1]])\n",
    "\n",
    "# Выходные данные\n",
    "y = np.array([[0, 0, 1, 1]]).T"
   ]
  },
  {
   "cell_type": "code",
   "execution_count": 6,
   "id": "9cfc937e",
   "metadata": {},
   "outputs": [],
   "source": [
    "# Сделаем случайные числа более определёнными\n",
    "np.random.seed(1)\n",
    "\n",
    "# Инициализируем веса случайным образом со средним 0\n",
    "syn0 = 2 * np.random.random((3, 1)) - 1"
   ]
  },
  {
   "cell_type": "code",
   "execution_count": 7,
   "id": "49510c70",
   "metadata": {},
   "outputs": [
    {
     "name": "stdout",
     "output_type": "stream",
     "text": [
      "Выходные данные после тренеровки:\n",
      "[[0.00966449]\n",
      " [0.00786506]\n",
      " [0.99358898]\n",
      " [0.99211957]]\n"
     ]
    }
   ],
   "source": [
    "l1 = []\n",
    "\n",
    "for iter in range(10000):\n",
    "    # Прямое распространение\n",
    "    l0 = x\n",
    "    l1 = sigmoid(np.dot(l0, syn0))\n",
    "\n",
    "    # Насколько мы ошиблись?\n",
    "    l1_error = y - l1\n",
    "\n",
    "    # Перемножим это с наклоном сигмоиды\n",
    "    # на основе значений в l1\n",
    "    l1_delta = l1_error * sigmoid(l1, True)\n",
    "\n",
    "    # Обновим веса\n",
    "    syn0 += np.dot(l0.T, l1_delta)\n",
    "\n",
    "print(\"Выходные данные после тренеровки:\")\n",
    "print(l1)"
   ]
  },
  {
   "cell_type": "code",
   "execution_count": 10,
   "id": "9542a2b4",
   "metadata": {},
   "outputs": [
    {
     "name": "stdout",
     "output_type": "stream",
     "text": [
      "Новые данные:\n",
      "[0.009664]\n"
     ]
    }
   ],
   "source": [
    "new_one = np.array([0, 0, 1])\n",
    "l1_new = sigmoid(np.dot(new_one, syn0))\n",
    "print(\"Новые данные:\")\n",
    "print(l1_new)"
   ]
  },
  {
   "cell_type": "code",
   "execution_count": 8,
   "id": "431c638f",
   "metadata": {},
   "outputs": [
    {
     "name": "stdout",
     "output_type": "stream",
     "text": [
      "Новые данные:\n",
      "[0.00786466]\n"
     ]
    }
   ],
   "source": [
    "new_one = np.array([0, 1, 1])\n",
    "l1_new = sigmoid(np.dot(new_one, syn0))\n",
    "print(\"Новые данные:\")\n",
    "print(l1_new)"
   ]
  },
  {
   "cell_type": "code",
   "execution_count": 12,
   "id": "164e8ea9",
   "metadata": {},
   "outputs": [
    {
     "name": "stdout",
     "output_type": "stream",
     "text": [
      "Новые данные:\n",
      "[0.99358931]\n",
      "Величина ошибки:\n",
      "[0.00641069]\n"
     ]
    }
   ],
   "source": [
    "new_one = np.array([1, 0, 1])\n",
    "l1_new = sigmoid(np.dot(new_one, syn0))\n",
    "print(\"Новые данные:\")\n",
    "print(l1_new)\n",
    "n = 1 - l1_new\n",
    "print(\"Величина ошибки:\")\n",
    "print(n)"
   ]
  },
  {
   "cell_type": "code",
   "execution_count": 14,
   "id": "6e0ba848",
   "metadata": {},
   "outputs": [
    {
     "name": "stdout",
     "output_type": "stream",
     "text": [
      "Новые данные:\n",
      "[0.99211997]\n",
      "Величина ошибки:\n",
      "[0.00788003]\n"
     ]
    }
   ],
   "source": [
    "new_one = np.array([1, 1, 1])\n",
    "l1_new = sigmoid(np.dot(new_one, syn0))\n",
    "print(\"Новые данные:\")\n",
    "print(l1_new)\n",
    "n = 1 - l1_new\n",
    "print(\"Величина ошибки:\")\n",
    "print(n)"
   ]
  },
  {
   "cell_type": "code",
   "execution_count": null,
   "id": "1005072a",
   "metadata": {},
   "outputs": [],
   "source": []
  }
 ],
 "metadata": {
  "kernelspec": {
   "display_name": "Python 3 (ipykernel)",
   "language": "python",
   "name": "python3"
  },
  "language_info": {
   "codemirror_mode": {
    "name": "ipython",
    "version": 3
   },
   "file_extension": ".py",
   "mimetype": "text/x-python",
   "name": "python",
   "nbconvert_exporter": "python",
   "pygments_lexer": "ipython3",
   "version": "3.9.7"
  }
 },
 "nbformat": 4,
 "nbformat_minor": 5
}
