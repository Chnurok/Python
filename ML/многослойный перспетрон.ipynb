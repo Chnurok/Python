{
 "cells": [
  {
   "cell_type": "code",
   "execution_count": 15,
   "id": "079b3a23",
   "metadata": {},
   "outputs": [],
   "source": [
    " # Load required libraries\n",
    " from sklearn import datasets\n",
    " from sklearn.preprocessing import StandardScaler\n",
    " from sklearn.linear_model import Perceptron      #Single-layer perceptron\n",
    " from sklearn.neural_network import MLPClassifier #Multilayer perceptron \n",
    " from sklearn.model_selection import train_test_split\n",
    " from sklearn.metrics import accuracy_score\n",
    " import numpy as np"
   ]
  },
  {
   "cell_type": "code",
   "execution_count": 16,
   "id": "5f3f1ca0",
   "metadata": {},
   "outputs": [],
   "source": [
    " # Load the mnist dataset\n",
    " mnist = datasets.load_digits()"
   ]
  },
  {
   "cell_type": "code",
   "execution_count": 17,
   "id": "6e7305c4",
   "metadata": {},
   "outputs": [],
   "source": [
    " # Create our X and y data\n",
    " n_samples = len(mnist.images)\n",
    " X = mnist.images.reshape((n_samples, -1))\n",
    " y = mnist.target"
   ]
  },
  {
   "cell_type": "code",
   "execution_count": 18,
   "id": "0e436eb1",
   "metadata": {},
   "outputs": [],
   "source": [
    " # Split the data into 70% training data and 30% test data\n",
    " X_train, X_test, y_train, y_test = train_test_split(X, y, test_size=0.3)"
   ]
  },
  {
   "cell_type": "code",
   "execution_count": 19,
   "id": "f17a83c6",
   "metadata": {},
   "outputs": [
    {
     "data": {
      "text/plain": [
       "StandardScaler()"
      ]
     },
     "execution_count": 19,
     "metadata": {},
     "output_type": "execute_result"
    }
   ],
   "source": [
    " # Обучаем скейлер, который стандартизирует все функции так, чтобы среднее значение = 0 и единичная дисперсия\n",
    " sc = StandardScaler()\n",
    " sc.fit(X_train)"
   ]
  },
  {
   "cell_type": "code",
   "execution_count": 20,
   "id": "5e4e17ab",
   "metadata": {},
   "outputs": [],
   "source": [
    " # Apply the scaler to the X training data\n",
    " X_train_std = sc.transform(X_train)"
   ]
  },
  {
   "cell_type": "code",
   "execution_count": 21,
   "id": "6893c9c6",
   "metadata": {},
   "outputs": [],
   "source": [
    " # Apply the SAME scaler to the X test data\n",
    " X_test_std = sc.transform(X_test)"
   ]
  },
  {
   "cell_type": "code",
   "execution_count": 28,
   "id": "edaa5500",
   "metadata": {},
   "outputs": [],
   "source": [
    " # Создаем однослойный объект персептрона с параметрами: 40 итераций (эпох) над данными и скорость обучения 0,1\n",
    " ppn = Perceptron(max_iter=40, eta0=0.1, random_state=0)\n",
    " # Create a multilayer perceptron object\n",
    " mppn = MLPClassifier(solver='lbfgs', alpha=1e-5, hidden_layer_sizes=(256, 512, 128), random_state=1)"
   ]
  },
  {
   "cell_type": "code",
   "execution_count": 29,
   "id": "6e1d2fd2",
   "metadata": {},
   "outputs": [
    {
     "data": {
      "text/plain": [
       "MLPClassifier(alpha=1e-05, hidden_layer_sizes=(256, 512, 128), random_state=1,\n",
       "              solver='lbfgs')"
      ]
     },
     "execution_count": 29,
     "metadata": {},
     "output_type": "execute_result"
    }
   ],
   "source": [
    " # Train the perceptrons\n",
    " ppn.fit(X_train_std, y_train)\n",
    " mppn.fit(X_train_std, y_train)"
   ]
  },
  {
   "cell_type": "code",
   "execution_count": 30,
   "id": "efdf88a1",
   "metadata": {},
   "outputs": [],
   "source": [
    "# Применим обученные перцептроны к данным X, чтобы сделать прогнозы для данных теста y\n",
    " y_pred = ppn.predict(X_test_std)\n",
    " multi_y_pred = mppn.predict(X_test_std)"
   ]
  },
  {
   "cell_type": "code",
   "execution_count": 31,
   "id": "8877a96f",
   "metadata": {},
   "outputs": [
    {
     "name": "stdout",
     "output_type": "stream",
     "text": [
      "Single-layer perceptron accuracy: 0.9278\n",
      "Multilayer perceptron accuracy: 0.9722\n"
     ]
    }
   ],
   "source": [
    " # Просмотрим точность модели, которая составляет: 1 - (ошибочные прогнозы / общее количество наблюдений)\n",
    " print('Single-layer perceptron accuracy: %.4f' % accuracy_score(y_test, y_pred))\n",
    " print('Multilayer perceptron accuracy: %.4f' % accuracy_score(y_test, multi_y_pred))"
   ]
  },
  {
   "cell_type": "code",
   "execution_count": null,
   "id": "1d1e34d7",
   "metadata": {},
   "outputs": [],
   "source": [
    "# Создаем однослойный объект персептрона с параметрами: 40 итераций (эпох) над данными и скорость обучения 0,1\n",
    " ppn = Perceptron(max_iter=40, eta0=0.1, random_state=0)\n",
    " # Create a multilayer perceptron object\n",
    " mppn = MLPClassifier(solver='lbfgs', alpha=1e-5, hidden_layer_sizes=(256, 512, 128), random_state=1)"
   ]
  }
 ],
 "metadata": {
  "kernelspec": {
   "display_name": "Python 3 (ipykernel)",
   "language": "python",
   "name": "python3"
  },
  "language_info": {
   "codemirror_mode": {
    "name": "ipython",
    "version": 3
   },
   "file_extension": ".py",
   "mimetype": "text/x-python",
   "name": "python",
   "nbconvert_exporter": "python",
   "pygments_lexer": "ipython3",
   "version": "3.9.7"
  }
 },
 "nbformat": 4,
 "nbformat_minor": 5
}
