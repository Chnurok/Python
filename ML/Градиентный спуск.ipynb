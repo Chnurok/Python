{
 "cells": [
  {
   "cell_type": "code",
   "execution_count": 2,
   "id": "d03307e6",
   "metadata": {},
   "outputs": [],
   "source": [
    "from numpy import asarray\n",
    "from numpy import arange\n",
    "from numpy.random import rand\n",
    "import numpy as np\n",
    "import matplotlib.pyplot as plt"
   ]
  },
  {
   "cell_type": "code",
   "execution_count": 3,
   "id": "93073976",
   "metadata": {},
   "outputs": [],
   "source": [
    "def objective(x):\n",
    "    return x**2.0"
   ]
  },
  {
   "cell_type": "code",
   "execution_count": 10,
   "id": "437d68ea",
   "metadata": {},
   "outputs": [
    {
     "data": {
      "text/plain": [
       "100.0"
      ]
     },
     "execution_count": 10,
     "metadata": {},
     "output_type": "execute_result"
    }
   ],
   "source": [
    "objective(10)"
   ]
  },
  {
   "cell_type": "code",
   "execution_count": 5,
   "id": "4b8d2157",
   "metadata": {},
   "outputs": [],
   "source": [
    "bounds = np.array([[-10.0, 10.0]])"
   ]
  },
  {
   "cell_type": "code",
   "execution_count": 13,
   "id": "d39cb9d2",
   "metadata": {},
   "outputs": [
    {
     "data": {
      "text/plain": [
       "array([-3.27568886])"
      ]
     },
     "execution_count": 13,
     "metadata": {},
     "output_type": "execute_result"
    }
   ],
   "source": [
    "x = bounds[:, 0] + rand(len(bounds)) * (bounds[:, 1] - bounds[:, 0])\n",
    "x"
   ]
  },
  {
   "cell_type": "code",
   "execution_count": 7,
   "id": "31869bf1",
   "metadata": {},
   "outputs": [],
   "source": [
    "inputs = []\n",
    "outputs = []"
   ]
  },
  {
   "cell_type": "code",
   "execution_count": 8,
   "id": "09069d2e",
   "metadata": {},
   "outputs": [],
   "source": [
    "for i in range(1000):\n",
    "  x = bounds[:, 0] + rand(len(bounds)) * (bounds[:, 1] - bounds[:, 0])\n",
    "  y = objective(x)\n",
    "  inputs.append(x)\n",
    "  outputs.append(y)"
   ]
  },
  {
   "cell_type": "code",
   "execution_count": 15,
   "id": "b074a830",
   "metadata": {},
   "outputs": [
    {
     "data": {
      "text/plain": [
       "<matplotlib.collections.PathCollection at 0x23cc63964f0>"
      ]
     },
     "execution_count": 15,
     "metadata": {},
     "output_type": "execute_result"
    },
    {
     "data": {
      "image/png": "[encoded data removed]",
      "text/plain": [
       "<Figure size 432x288 with 1 Axes>"
      ]
     },
     "metadata": {
      "needs_background": "light"
     },
     "output_type": "display_data"
    }
   ],
   "source": [
    "plt.scatter(inputs, outputs)\n",
    "# plot the solutions found\n",
    "# plt.plot(solutions, scores, '.-', color='red')"
   ]
  },
  {
   "cell_type": "code",
   "execution_count": 23,
   "id": "a1b22334",
   "metadata": {},
   "outputs": [
    {
     "data": {
      "text/plain": [
       "array([3.0903946])"
      ]
     },
     "execution_count": 23,
     "metadata": {},
     "output_type": "execute_result"
    }
   ],
   "source": [
    "x = bounds[:, 0] + rand(len(bounds)) * (bounds[:, 1] - bounds[:, 0])\n",
    "x"
   ]
  },
  {
   "cell_type": "code",
   "execution_count": 24,
   "id": "417443e9",
   "metadata": {},
   "outputs": [],
   "source": [
    "def derivative(x):\n",
    "    return x * 2.0"
   ]
  },
  {
   "cell_type": "code",
   "execution_count": 25,
   "id": "bdde09aa",
   "metadata": {},
   "outputs": [
    {
     "data": {
      "text/plain": [
       "array([6.1807892])"
      ]
     },
     "execution_count": 25,
     "metadata": {},
     "output_type": "execute_result"
    }
   ],
   "source": [
    "derivative(x)"
   ]
  },
  {
   "cell_type": "code",
   "execution_count": 26,
   "id": "0ed150c3",
   "metadata": {},
   "outputs": [],
   "source": [
    "solutions = []\n",
    "evaluations = []"
   ]
  },
  {
   "cell_type": "code",
   "execution_count": 27,
   "id": "f5ab4c21",
   "metadata": {},
   "outputs": [
    {
     "name": "stdout",
     "output_type": "stream",
     "text": [
      ">0 f([2.47231568]) = 9.55054\n",
      ">1 f([1.97785254]) = 6.11234\n",
      ">2 f([1.58228203]) = 3.91190\n",
      ">3 f([1.26582563]) = 2.50362\n",
      ">4 f([1.0126605]) = 1.60231\n",
      ">5 f([0.8101284]) = 1.02548\n",
      ">6 f([0.64810272]) = 0.65631\n",
      ">7 f([0.51848218]) = 0.42004\n",
      ">8 f([0.41478574]) = 0.26882\n",
      ">9 f([0.33182859]) = 0.17205\n",
      ">10 f([0.26546287]) = 0.11011\n",
      ">11 f([0.2123703]) = 0.07047\n",
      ">12 f([0.16989624]) = 0.04510\n",
      ">13 f([0.13591699]) = 0.02886\n",
      ">14 f([0.10873359]) = 0.01847\n",
      ">15 f([0.08698687]) = 0.01182\n",
      ">16 f([0.0695895]) = 0.00757\n",
      ">17 f([0.0556716]) = 0.00484\n",
      ">18 f([0.04453728]) = 0.00310\n",
      ">19 f([0.03562982]) = 0.00198\n"
     ]
    },
    {
     "data": {
      "text/plain": [
       "<matplotlib.collections.PathCollection at 0x23cc8543400>"
      ]
     },
     "execution_count": 27,
     "metadata": {},
     "output_type": "execute_result"
    },
    {
     "data": {
      "image/png": "[encoded data removed]",
      "text/plain": [
       "<Figure size 432x288 with 1 Axes>"
      ]
     },
     "metadata": {
      "needs_background": "light"
     },
     "output_type": "display_data"
    }
   ],
   "source": [
    "for i in range(20):\n",
    "  solutions.append(x)\n",
    "  x_evaluation = objective(x)\n",
    "  evaluations.append(x_evaluation)\n",
    "\n",
    "  gradient = derivative(x)\n",
    "  new_x = x - 0.1 * gradient\n",
    "  x = new_x\n",
    "  print('>%d f(%s) = %.5f' % (i, x, x_evaluation))\n",
    "plt.scatter(inputs, outputs)\n",
    "# plot the solutions found\n",
    "plt.scatter(solutions, evaluations, color='red')\n"
   ]
  },
  {
   "cell_type": "code",
   "execution_count": null,
   "id": "0ed2d183",
   "metadata": {},
   "outputs": [],
   "source": []
  }
 ],
 "metadata": {
  "kernelspec": {
   "display_name": "Python 3 (ipykernel)",
   "language": "python",
   "name": "python3"
  },
  "language_info": {
   "codemirror_mode": {
    "name": "ipython",
    "version": 3
   },
   "file_extension": ".py",
   "mimetype": "text/x-python",
   "name": "python",
   "nbconvert_exporter": "python",
   "pygments_lexer": "ipython3",
   "version": "3.9.7"
  }
 },
 "nbformat": 4,
 "nbformat_minor": 5
}
